{
 "cells": [
  {
   "cell_type": "markdown",
   "id": "ee7be88e-fe92-458f-8d6d-fde2e8073385",
   "metadata": {},
   "source": [
    "# Lego Dataset Analysis"
   ]
  },
  {
   "cell_type": "markdown",
   "id": "cfe7ac99-f346-4ee0-bb33-0cd74e40ed1f",
   "metadata": {},
   "source": [
    "The dataset used in this analysis was provided as part of a course module, the data range is up to the year 2020. More recent data is available at the Rebrickable source: https://rebrickable.com/downloads/\n",
    "\n",
    "<img src='assets/bricks.jpg'>"
   ]
  },
  {
   "cell_type": "code",
   "execution_count": 233,
   "id": "d08c498d-f552-4d8c-8560-d69166c9d69e",
   "metadata": {},
   "outputs": [],
   "source": [
    "import pandas as pd\n",
    "import matplotlib.pyplot as plt"
   ]
  },
  {
   "cell_type": "code",
   "execution_count": 13,
   "id": "78878938-19f5-42be-9784-15310943ea44",
   "metadata": {},
   "outputs": [],
   "source": [
    "colours = pd.read_csv('colors.csv')\n",
    "sets = pd.read_csv('sets.csv')\n",
    "themes = pd.read_csv('themes.csv')"
   ]
  },
  {
   "cell_type": "markdown",
   "id": "e8718235-5ed8-4814-8d7c-399b204d8530",
   "metadata": {},
   "source": [
    "## Data Exploration"
   ]
  },
  {
   "cell_type": "code",
   "execution_count": 38,
   "id": "4510092a-362b-41c8-bfeb-85b8361cd92c",
   "metadata": {},
   "outputs": [
    {
     "data": {
      "text/html": [
       "<div>\n",
       "<style scoped>\n",
       "    .dataframe tbody tr th:only-of-type {\n",
       "        vertical-align: middle;\n",
       "    }\n",
       "\n",
       "    .dataframe tbody tr th {\n",
       "        vertical-align: top;\n",
       "    }\n",
       "\n",
       "    .dataframe thead th {\n",
       "        text-align: right;\n",
       "    }\n",
       "</style>\n",
       "<table border=\"1\" class=\"dataframe\">\n",
       "  <thead>\n",
       "    <tr style=\"text-align: right;\">\n",
       "      <th></th>\n",
       "      <th>id</th>\n",
       "      <th>name</th>\n",
       "      <th>rgb</th>\n",
       "      <th>is_trans</th>\n",
       "    </tr>\n",
       "  </thead>\n",
       "  <tbody>\n",
       "    <tr>\n",
       "      <th>0</th>\n",
       "      <td>-1</td>\n",
       "      <td>Unknown</td>\n",
       "      <td>0033B2</td>\n",
       "      <td>f</td>\n",
       "    </tr>\n",
       "    <tr>\n",
       "      <th>1</th>\n",
       "      <td>0</td>\n",
       "      <td>Black</td>\n",
       "      <td>05131D</td>\n",
       "      <td>f</td>\n",
       "    </tr>\n",
       "    <tr>\n",
       "      <th>2</th>\n",
       "      <td>1</td>\n",
       "      <td>Blue</td>\n",
       "      <td>0055BF</td>\n",
       "      <td>f</td>\n",
       "    </tr>\n",
       "    <tr>\n",
       "      <th>3</th>\n",
       "      <td>2</td>\n",
       "      <td>Green</td>\n",
       "      <td>237841</td>\n",
       "      <td>f</td>\n",
       "    </tr>\n",
       "    <tr>\n",
       "      <th>4</th>\n",
       "      <td>3</td>\n",
       "      <td>Dark Turquoise</td>\n",
       "      <td>008F9B</td>\n",
       "      <td>f</td>\n",
       "    </tr>\n",
       "  </tbody>\n",
       "</table>\n",
       "</div>"
      ],
      "text/plain": [
       "   id            name     rgb is_trans\n",
       "0  -1         Unknown  0033B2        f\n",
       "1   0           Black  05131D        f\n",
       "2   1            Blue  0055BF        f\n",
       "3   2           Green  237841        f\n",
       "4   3  Dark Turquoise  008F9B        f"
      ]
     },
     "execution_count": 38,
     "metadata": {},
     "output_type": "execute_result"
    }
   ],
   "source": [
    "colours.head()"
   ]
  },
  {
   "cell_type": "markdown",
   "id": "04421aca-2159-4e2a-a38c-cc6b3fef5444",
   "metadata": {},
   "source": [
    "- The 'rgb' column refers to the rgb code of the colour\n",
    "- The 'is_trans' column shows a bool value for if the colour is transparent(t) or opaque(f) "
   ]
  },
  {
   "cell_type": "markdown",
   "id": "c49aa04a-2447-4b5e-8c56-a37da55e8271",
   "metadata": {},
   "source": [
    "1. How many unique colours of LEGO are there?"
   ]
  },
  {
   "cell_type": "code",
   "execution_count": 32,
   "id": "4e0b061a-653d-44fb-bdcb-22df0686a3a5",
   "metadata": {},
   "outputs": [
    {
     "data": {
      "text/plain": [
       "135"
      ]
     },
     "execution_count": 32,
     "metadata": {},
     "output_type": "execute_result"
    }
   ],
   "source": [
    "colours.name.nunique()"
   ]
  },
  {
   "cell_type": "markdown",
   "id": "76dce8f3-4147-4cd0-88f7-1622dffd7b47",
   "metadata": {},
   "source": [
    "2. How many transparent colours are there? How many opaque?"
   ]
  },
  {
   "cell_type": "code",
   "execution_count": 46,
   "id": "9f61d48e-4635-4767-8161-e800cebebdda",
   "metadata": {},
   "outputs": [
    {
     "data": {
      "text/plain": [
       "is_trans\n",
       "f    107\n",
       "Name: count, dtype: int64"
      ]
     },
     "execution_count": 46,
     "metadata": {},
     "output_type": "execute_result"
    }
   ],
   "source": [
    "colours[colours['is_trans'] == 'f']['is_trans'].value_counts()"
   ]
  },
  {
   "cell_type": "code",
   "execution_count": 48,
   "id": "69f1cf39-7d68-4215-85a5-e4d6d4f0be82",
   "metadata": {},
   "outputs": [
    {
     "data": {
      "text/plain": [
       "is_trans\n",
       "t    28\n",
       "Name: count, dtype: int64"
      ]
     },
     "execution_count": 48,
     "metadata": {},
     "output_type": "execute_result"
    }
   ],
   "source": [
    "colours[colours['is_trans'] == 't']['is_trans'].value_counts()"
   ]
  },
  {
   "cell_type": "markdown",
   "id": "4ff6252c-2a2c-4295-909d-ecf307f7afc1",
   "metadata": {},
   "source": [
    "(Answer)\n",
    "- There are 28 transparent colours and 107 opaque colours."
   ]
  },
  {
   "cell_type": "markdown",
   "id": "5514483c-e6df-452a-a0df-a43ccadf04fe",
   "metadata": {},
   "source": [
    "## Understanding LEGO Themes vs. LEGO Sets\n",
    "Walk into a LEGO store and you will see their products organised by theme. Their themes include Star Wars, Batman, Harry Potter and many more.\n",
    "<img src='assets/lego_themes.png'>\n",
    "\n",
    "A lego set is a particular box of LEGO or product. Therefore, a single theme typically has many different sets.\n",
    "<img src='assets/lego_sets.png'>\n",
    "\n",
    "The sets.csv data contains a list of sets over the years and the number of parts that each of these sets contained.\n"
   ]
  },
  {
   "cell_type": "code",
   "execution_count": 68,
   "id": "a9367ca7-3ff2-4976-a935-d5b9321d7e2b",
   "metadata": {},
   "outputs": [
    {
     "data": {
      "text/html": [
       "<div>\n",
       "<style scoped>\n",
       "    .dataframe tbody tr th:only-of-type {\n",
       "        vertical-align: middle;\n",
       "    }\n",
       "\n",
       "    .dataframe tbody tr th {\n",
       "        vertical-align: top;\n",
       "    }\n",
       "\n",
       "    .dataframe thead th {\n",
       "        text-align: right;\n",
       "    }\n",
       "</style>\n",
       "<table border=\"1\" class=\"dataframe\">\n",
       "  <thead>\n",
       "    <tr style=\"text-align: right;\">\n",
       "      <th></th>\n",
       "      <th>set_num</th>\n",
       "      <th>name</th>\n",
       "      <th>year</th>\n",
       "      <th>theme_id</th>\n",
       "      <th>num_parts</th>\n",
       "    </tr>\n",
       "  </thead>\n",
       "  <tbody>\n",
       "    <tr>\n",
       "      <th>0</th>\n",
       "      <td>001-1</td>\n",
       "      <td>Gears</td>\n",
       "      <td>1965</td>\n",
       "      <td>1</td>\n",
       "      <td>43</td>\n",
       "    </tr>\n",
       "    <tr>\n",
       "      <th>1</th>\n",
       "      <td>0011-2</td>\n",
       "      <td>Town Mini-Figures</td>\n",
       "      <td>1978</td>\n",
       "      <td>84</td>\n",
       "      <td>12</td>\n",
       "    </tr>\n",
       "    <tr>\n",
       "      <th>2</th>\n",
       "      <td>0011-3</td>\n",
       "      <td>Castle 2 for 1 Bonus Offer</td>\n",
       "      <td>1987</td>\n",
       "      <td>199</td>\n",
       "      <td>0</td>\n",
       "    </tr>\n",
       "    <tr>\n",
       "      <th>3</th>\n",
       "      <td>0012-1</td>\n",
       "      <td>Space Mini-Figures</td>\n",
       "      <td>1979</td>\n",
       "      <td>143</td>\n",
       "      <td>12</td>\n",
       "    </tr>\n",
       "    <tr>\n",
       "      <th>4</th>\n",
       "      <td>0013-1</td>\n",
       "      <td>Space Mini-Figures</td>\n",
       "      <td>1979</td>\n",
       "      <td>143</td>\n",
       "      <td>12</td>\n",
       "    </tr>\n",
       "  </tbody>\n",
       "</table>\n",
       "</div>"
      ],
      "text/plain": [
       "  set_num                        name  year  theme_id  num_parts\n",
       "0   001-1                       Gears  1965         1         43\n",
       "1  0011-2           Town Mini-Figures  1978        84         12\n",
       "2  0011-3  Castle 2 for 1 Bonus Offer  1987       199          0\n",
       "3  0012-1          Space Mini-Figures  1979       143         12\n",
       "4  0013-1          Space Mini-Figures  1979       143         12"
      ]
     },
     "execution_count": 68,
     "metadata": {},
     "output_type": "execute_result"
    }
   ],
   "source": [
    "sets.head()"
   ]
  },
  {
   "cell_type": "code",
   "execution_count": 70,
   "id": "26b39a50-a7fd-4764-8ffd-c1cd0ac29816",
   "metadata": {},
   "outputs": [
    {
     "data": {
      "text/html": [
       "<div>\n",
       "<style scoped>\n",
       "    .dataframe tbody tr th:only-of-type {\n",
       "        vertical-align: middle;\n",
       "    }\n",
       "\n",
       "    .dataframe tbody tr th {\n",
       "        vertical-align: top;\n",
       "    }\n",
       "\n",
       "    .dataframe thead th {\n",
       "        text-align: right;\n",
       "    }\n",
       "</style>\n",
       "<table border=\"1\" class=\"dataframe\">\n",
       "  <thead>\n",
       "    <tr style=\"text-align: right;\">\n",
       "      <th></th>\n",
       "      <th>set_num</th>\n",
       "      <th>name</th>\n",
       "      <th>year</th>\n",
       "      <th>theme_id</th>\n",
       "      <th>num_parts</th>\n",
       "    </tr>\n",
       "  </thead>\n",
       "  <tbody>\n",
       "    <tr>\n",
       "      <th>15705</th>\n",
       "      <td>wwgp1-1</td>\n",
       "      <td>Wild West Limited Edition Gift Pack</td>\n",
       "      <td>1996</td>\n",
       "      <td>476</td>\n",
       "      <td>0</td>\n",
       "    </tr>\n",
       "    <tr>\n",
       "      <th>15706</th>\n",
       "      <td>XMASTREE-1</td>\n",
       "      <td>Christmas Tree</td>\n",
       "      <td>2019</td>\n",
       "      <td>410</td>\n",
       "      <td>26</td>\n",
       "    </tr>\n",
       "    <tr>\n",
       "      <th>15707</th>\n",
       "      <td>XWING-1</td>\n",
       "      <td>Mini X-Wing Fighter</td>\n",
       "      <td>2019</td>\n",
       "      <td>158</td>\n",
       "      <td>60</td>\n",
       "    </tr>\n",
       "    <tr>\n",
       "      <th>15708</th>\n",
       "      <td>XWING-2</td>\n",
       "      <td>X-Wing Trench Run</td>\n",
       "      <td>2019</td>\n",
       "      <td>158</td>\n",
       "      <td>52</td>\n",
       "    </tr>\n",
       "    <tr>\n",
       "      <th>15709</th>\n",
       "      <td>YODACHRON-1</td>\n",
       "      <td>Yoda Chronicles Promotional Set</td>\n",
       "      <td>2013</td>\n",
       "      <td>158</td>\n",
       "      <td>413</td>\n",
       "    </tr>\n",
       "  </tbody>\n",
       "</table>\n",
       "</div>"
      ],
      "text/plain": [
       "           set_num                                 name  year  theme_id  \\\n",
       "15705      wwgp1-1  Wild West Limited Edition Gift Pack  1996       476   \n",
       "15706   XMASTREE-1                       Christmas Tree  2019       410   \n",
       "15707      XWING-1                  Mini X-Wing Fighter  2019       158   \n",
       "15708      XWING-2                    X-Wing Trench Run  2019       158   \n",
       "15709  YODACHRON-1      Yoda Chronicles Promotional Set  2013       158   \n",
       "\n",
       "       num_parts  \n",
       "15705          0  \n",
       "15706         26  \n",
       "15707         60  \n",
       "15708         52  \n",
       "15709        413  "
      ]
     },
     "execution_count": 70,
     "metadata": {},
     "output_type": "execute_result"
    }
   ],
   "source": [
    "sets.tail()"
   ]
  },
  {
   "cell_type": "markdown",
   "id": "1ed5f2b8-f1d0-4785-be5d-3d34e103302e",
   "metadata": {},
   "source": [
    "2. In which year were the first LEGO sets released and what were these sets called?"
   ]
  },
  {
   "cell_type": "code",
   "execution_count": 84,
   "id": "41b3f6f5-0004-40bd-b9c6-535e1c255365",
   "metadata": {},
   "outputs": [
    {
     "data": {
      "text/html": [
       "<div>\n",
       "<style scoped>\n",
       "    .dataframe tbody tr th:only-of-type {\n",
       "        vertical-align: middle;\n",
       "    }\n",
       "\n",
       "    .dataframe tbody tr th {\n",
       "        vertical-align: top;\n",
       "    }\n",
       "\n",
       "    .dataframe thead th {\n",
       "        text-align: right;\n",
       "    }\n",
       "</style>\n",
       "<table border=\"1\" class=\"dataframe\">\n",
       "  <thead>\n",
       "    <tr style=\"text-align: right;\">\n",
       "      <th></th>\n",
       "      <th>set_num</th>\n",
       "      <th>name</th>\n",
       "      <th>year</th>\n",
       "      <th>theme_id</th>\n",
       "      <th>num_parts</th>\n",
       "    </tr>\n",
       "  </thead>\n",
       "  <tbody>\n",
       "    <tr>\n",
       "      <th>9521</th>\n",
       "      <td>700.1-1</td>\n",
       "      <td>Extra-Large Gift Set (ABB)</td>\n",
       "      <td>1949</td>\n",
       "      <td>365</td>\n",
       "      <td>142</td>\n",
       "    </tr>\n",
       "    <tr>\n",
       "      <th>9534</th>\n",
       "      <td>700.2-1</td>\n",
       "      <td>Large Gift Set (ABB)</td>\n",
       "      <td>1949</td>\n",
       "      <td>365</td>\n",
       "      <td>178</td>\n",
       "    </tr>\n",
       "    <tr>\n",
       "      <th>9539</th>\n",
       "      <td>700.3-1</td>\n",
       "      <td>Medium Gift Set (ABB)</td>\n",
       "      <td>1949</td>\n",
       "      <td>365</td>\n",
       "      <td>142</td>\n",
       "    </tr>\n",
       "    <tr>\n",
       "      <th>9544</th>\n",
       "      <td>700.A-1</td>\n",
       "      <td>Small Brick Set (ABB)</td>\n",
       "      <td>1949</td>\n",
       "      <td>371</td>\n",
       "      <td>24</td>\n",
       "    </tr>\n",
       "    <tr>\n",
       "      <th>9545</th>\n",
       "      <td>700.B-1</td>\n",
       "      <td>Small Doors and Windows Set (ABB)</td>\n",
       "      <td>1949</td>\n",
       "      <td>371</td>\n",
       "      <td>12</td>\n",
       "    </tr>\n",
       "    <tr>\n",
       "      <th>9526</th>\n",
       "      <td>700.1.2-1</td>\n",
       "      <td>Single 2 x 2 Brick (ABB)</td>\n",
       "      <td>1950</td>\n",
       "      <td>371</td>\n",
       "      <td>1</td>\n",
       "    </tr>\n",
       "    <tr>\n",
       "      <th>9546</th>\n",
       "      <td>700.B.1-1</td>\n",
       "      <td>Single 1 x 4 x 2 Window without Glass (ABB)</td>\n",
       "      <td>1950</td>\n",
       "      <td>371</td>\n",
       "      <td>1</td>\n",
       "    </tr>\n",
       "    <tr>\n",
       "      <th>9523</th>\n",
       "      <td>700.1.1-1</td>\n",
       "      <td>Single 2 x 4 Brick (ABB)</td>\n",
       "      <td>1950</td>\n",
       "      <td>371</td>\n",
       "      <td>1</td>\n",
       "    </tr>\n",
       "    <tr>\n",
       "      <th>9548</th>\n",
       "      <td>700.B.3-1</td>\n",
       "      <td>Single 1 x 2 x 2 Window without Glass (ABB)</td>\n",
       "      <td>1950</td>\n",
       "      <td>371</td>\n",
       "      <td>1</td>\n",
       "    </tr>\n",
       "    <tr>\n",
       "      <th>9549</th>\n",
       "      <td>700.B.4-1</td>\n",
       "      <td>Single 1 x 2 x 4 Door without Glass (ABB)</td>\n",
       "      <td>1950</td>\n",
       "      <td>371</td>\n",
       "      <td>1</td>\n",
       "    </tr>\n",
       "  </tbody>\n",
       "</table>\n",
       "</div>"
      ],
      "text/plain": [
       "        set_num                                         name  year  theme_id  \\\n",
       "9521    700.1-1                   Extra-Large Gift Set (ABB)  1949       365   \n",
       "9534    700.2-1                         Large Gift Set (ABB)  1949       365   \n",
       "9539    700.3-1                        Medium Gift Set (ABB)  1949       365   \n",
       "9544    700.A-1                        Small Brick Set (ABB)  1949       371   \n",
       "9545    700.B-1            Small Doors and Windows Set (ABB)  1949       371   \n",
       "9526  700.1.2-1                     Single 2 x 2 Brick (ABB)  1950       371   \n",
       "9546  700.B.1-1  Single 1 x 4 x 2 Window without Glass (ABB)  1950       371   \n",
       "9523  700.1.1-1                     Single 2 x 4 Brick (ABB)  1950       371   \n",
       "9548  700.B.3-1  Single 1 x 2 x 2 Window without Glass (ABB)  1950       371   \n",
       "9549  700.B.4-1    Single 1 x 2 x 4 Door without Glass (ABB)  1950       371   \n",
       "\n",
       "      num_parts  \n",
       "9521        142  \n",
       "9534        178  \n",
       "9539        142  \n",
       "9544         24  \n",
       "9545         12  \n",
       "9526          1  \n",
       "9546          1  \n",
       "9523          1  \n",
       "9548          1  \n",
       "9549          1  "
      ]
     },
     "execution_count": 84,
     "metadata": {},
     "output_type": "execute_result"
    }
   ],
   "source": [
    "sets.sort_values('year').head(10)"
   ]
  },
  {
   "cell_type": "markdown",
   "id": "797bfe6a-f613-420d-bf77-5d4fd946d840",
   "metadata": {},
   "source": [
    "(Answer)\n",
    "- The first LEGO sets were released in 1949 and were called:\n",
    "- Extra-Large Gift Set (ABB), Large Gift Set (ABB), Medium Gift Set (ABB), Small Brick Set (ABB), Small Doors and Windows Set (ABB)"
   ]
  },
  {
   "cell_type": "markdown",
   "id": "d678b717-d1df-45ed-8533-d72b64c76987",
   "metadata": {},
   "source": [
    "3. How many types of LEGO products were on offer in the year the company started?"
   ]
  },
  {
   "cell_type": "code",
   "execution_count": 105,
   "id": "29ea82d2-066c-4556-9e21-7267f5d3d01e",
   "metadata": {},
   "outputs": [
    {
     "data": {
      "text/plain": [
       "set_num      5\n",
       "name         5\n",
       "year         5\n",
       "theme_id     5\n",
       "num_parts    5\n",
       "dtype: int64"
      ]
     },
     "execution_count": 105,
     "metadata": {},
     "output_type": "execute_result"
    }
   ],
   "source": [
    "sets[sets['year'] == 1949].count()"
   ]
  },
  {
   "cell_type": "markdown",
   "id": "5460a5e6-ae22-4929-bb88-78dca822b147",
   "metadata": {},
   "source": [
    "(Answer)\n",
    "- Only 5 differernt LEGO products were on ofer in the year the company started"
   ]
  },
  {
   "cell_type": "markdown",
   "id": "fabf9436-65bf-4898-9046-410f578f964c",
   "metadata": {},
   "source": [
    "4. What are the top 5 LEGO sets with the most number of parts?"
   ]
  },
  {
   "cell_type": "code",
   "execution_count": 120,
   "id": "74e9bebf-209f-4305-996d-bbc54f00f36b",
   "metadata": {},
   "outputs": [
    {
     "data": {
      "text/html": [
       "<div>\n",
       "<style scoped>\n",
       "    .dataframe tbody tr th:only-of-type {\n",
       "        vertical-align: middle;\n",
       "    }\n",
       "\n",
       "    .dataframe tbody tr th {\n",
       "        vertical-align: top;\n",
       "    }\n",
       "\n",
       "    .dataframe thead th {\n",
       "        text-align: right;\n",
       "    }\n",
       "</style>\n",
       "<table border=\"1\" class=\"dataframe\">\n",
       "  <thead>\n",
       "    <tr style=\"text-align: right;\">\n",
       "      <th></th>\n",
       "      <th>name</th>\n",
       "      <th>year</th>\n",
       "      <th>num_parts</th>\n",
       "    </tr>\n",
       "  </thead>\n",
       "  <tbody>\n",
       "    <tr>\n",
       "      <th>15004</th>\n",
       "      <td>The Ultimate Battle for Chima</td>\n",
       "      <td>2015</td>\n",
       "      <td>9987</td>\n",
       "    </tr>\n",
       "    <tr>\n",
       "      <th>11183</th>\n",
       "      <td>UCS Millennium Falcon</td>\n",
       "      <td>2017</td>\n",
       "      <td>7541</td>\n",
       "    </tr>\n",
       "    <tr>\n",
       "      <th>10551</th>\n",
       "      <td>Hogwarts Castle</td>\n",
       "      <td>2018</td>\n",
       "      <td>6020</td>\n",
       "    </tr>\n",
       "    <tr>\n",
       "      <th>295</th>\n",
       "      <td>Taj Mahal</td>\n",
       "      <td>2017</td>\n",
       "      <td>5923</td>\n",
       "    </tr>\n",
       "    <tr>\n",
       "      <th>221</th>\n",
       "      <td>Taj Mahal</td>\n",
       "      <td>2008</td>\n",
       "      <td>5922</td>\n",
       "    </tr>\n",
       "  </tbody>\n",
       "</table>\n",
       "</div>"
      ],
      "text/plain": [
       "                                name  year  num_parts\n",
       "15004  The Ultimate Battle for Chima  2015       9987\n",
       "11183          UCS Millennium Falcon  2017       7541\n",
       "10551                Hogwarts Castle  2018       6020\n",
       "295                        Taj Mahal  2017       5923\n",
       "221                        Taj Mahal  2008       5922"
      ]
     },
     "execution_count": 120,
     "metadata": {},
     "output_type": "execute_result"
    }
   ],
   "source": [
    "sets[['name','year','num_parts']].sort_values('num_parts', ascending=False).head()"
   ]
  },
  {
   "cell_type": "markdown",
   "id": "6c2fa18b-d285-46fb-a9f0-af47a1ac9d1d",
   "metadata": {},
   "source": [
    "(Answer)\n",
    "- The LEGO set with the most number of parts ever released was 'The Ultimate Battle for Chima' set, with nearly 10000 parts\n",
    "- This is closely followed behind by the 'UCS Millennium Falcon' set released in 2017, with 7541 parts.\n",
    "- Fun Fact: The Ultimate Battle for Chima set was never released for public purchase, but was a grand prize for the 'Legends of Chima' competition in the July-August 2015 issue of LEGO Club Magazine. It is the rarest Lego set with only 2 copies confirmed to exist.\n",
    "- https://legolegendsofchima.fandom.com/wiki/The_Ultimate_Battle_for_CHIMA\n",
    "- https://brickset.com/sets/BIGBOX-1/The-Ultimate-Battle-for-CHIMA"
   ]
  },
  {
   "cell_type": "markdown",
   "id": "acb88425-e433-4bff-aea5-3e119fb59da8",
   "metadata": {},
   "source": [
    "5. How do the number of LEGO sets released year-on-year compare? How do the number of sets released in 1955 compare to the number of sets released in 2019? "
   ]
  },
  {
   "cell_type": "code",
   "execution_count": 135,
   "id": "746631b3-8bd7-4be2-8198-49e60290c756",
   "metadata": {},
   "outputs": [
    {
     "data": {
      "text/html": [
       "<div>\n",
       "<style scoped>\n",
       "    .dataframe tbody tr th:only-of-type {\n",
       "        vertical-align: middle;\n",
       "    }\n",
       "\n",
       "    .dataframe tbody tr th {\n",
       "        vertical-align: top;\n",
       "    }\n",
       "\n",
       "    .dataframe thead th {\n",
       "        text-align: right;\n",
       "    }\n",
       "</style>\n",
       "<table border=\"1\" class=\"dataframe\">\n",
       "  <thead>\n",
       "    <tr style=\"text-align: right;\">\n",
       "      <th></th>\n",
       "      <th>set_num</th>\n",
       "      <th>name</th>\n",
       "      <th>year</th>\n",
       "      <th>theme_id</th>\n",
       "      <th>num_parts</th>\n",
       "    </tr>\n",
       "  </thead>\n",
       "  <tbody>\n",
       "    <tr>\n",
       "      <th>0</th>\n",
       "      <td>001-1</td>\n",
       "      <td>Gears</td>\n",
       "      <td>1965</td>\n",
       "      <td>1</td>\n",
       "      <td>43</td>\n",
       "    </tr>\n",
       "  </tbody>\n",
       "</table>\n",
       "</div>"
      ],
      "text/plain": [
       "  set_num   name  year  theme_id  num_parts\n",
       "0   001-1  Gears  1965         1         43"
      ]
     },
     "execution_count": 135,
     "metadata": {},
     "output_type": "execute_result"
    }
   ],
   "source": [
    "sets.head(1)"
   ]
  },
  {
   "cell_type": "code",
   "execution_count": 157,
   "id": "f58003b2-48f5-49d0-b03b-8e064395154c",
   "metadata": {},
   "outputs": [
    {
     "data": {
      "text/plain": [
       "year\n",
       "1949      5\n",
       "1950      6\n",
       "1953      4\n",
       "1954     14\n",
       "1955     28\n",
       "       ... \n",
       "2017    786\n",
       "2018    816\n",
       "2019    840\n",
       "2020    674\n",
       "2021      3\n",
       "Name: name, Length: 71, dtype: int64"
      ]
     },
     "execution_count": 157,
     "metadata": {},
     "output_type": "execute_result"
    }
   ],
   "source": [
    "sets.groupby('year').name.count()"
   ]
  },
  {
   "cell_type": "code",
   "execution_count": 191,
   "id": "b29dd416-7e8c-4c72-b134-80cd5b27f5d7",
   "metadata": {},
   "outputs": [
    {
     "data": {
      "text/plain": [
       "28"
      ]
     },
     "execution_count": 191,
     "metadata": {},
     "output_type": "execute_result"
    }
   ],
   "source": [
    "set_releases = sets.groupby('year')\n",
    "set_releases.get_group(1955).name.count()"
   ]
  },
  {
   "cell_type": "code",
   "execution_count": 193,
   "id": "2cd96e41-ec4c-4e0c-964f-c22e938f5b43",
   "metadata": {},
   "outputs": [
    {
     "data": {
      "text/plain": [
       "840"
      ]
     },
     "execution_count": 193,
     "metadata": {},
     "output_type": "execute_result"
    }
   ],
   "source": [
    "set_releases.get_group(2019).name.count()"
   ]
  },
  {
   "cell_type": "markdown",
   "id": "3eeeb47d-1de0-4247-b35c-0d0772188a4b",
   "metadata": {},
   "source": [
    "(Answer)\n",
    "- The number of releases year-on-year generally follows an upward trend.\n",
    "- There were 28 sets released in the year 1955 vs 840 sets released in the year 2019."
   ]
  },
  {
   "cell_type": "markdown",
   "id": "d5a5f4de-6c99-4552-9700-8231ff51b779",
   "metadata": {},
   "source": [
    "## Data Visualization"
   ]
  },
  {
   "cell_type": "markdown",
   "id": "fcab8144-c5a0-4940-8469-a556cd16c401",
   "metadata": {},
   "source": [
    "6. How many Lego sets were released year-on-year?"
   ]
  },
  {
   "cell_type": "code",
   "execution_count": 221,
   "id": "42f76b23-1fee-4faa-9831-648893074e80",
   "metadata": {},
   "outputs": [],
   "source": [
    "sets_by_year = sets.groupby('year').count()"
   ]
  },
  {
   "cell_type": "code",
   "execution_count": 313,
   "id": "e47ae0ed-f977-4229-8c4f-88ea68149627",
   "metadata": {},
   "outputs": [
    {
     "data": {
      "text/plain": [
       "<matplotlib.legend.Legend at 0x2558d63bf50>"
      ]
     },
     "execution_count": 313,
     "metadata": {},
     "output_type": "execute_result"
    },
    {
     "data": {
      "image/png": "[encoded data removed]",
      "text/plain": [
       "<Figure size 640x480 with 1 Axes>"
      ]
     },
     "metadata": {},
     "output_type": "display_data"
    }
   ],
   "source": [
    "plt.figure()\n",
    "plt.plot(sets_by_year['set_num'], label='Sets')\n",
    "plt.title('Number of LEGO set releases by year')\n",
    "plt.legend()"
   ]
  },
  {
   "cell_type": "code",
   "execution_count": 262,
   "id": "adaf914c-5422-4a43-bd3a-778f411de396",
   "metadata": {},
   "outputs": [
    {
     "data": {
      "text/plain": [
       "year\n",
       "1949      5\n",
       "1950      6\n",
       "1953      4\n",
       "1954     14\n",
       "1955     28\n",
       "       ... \n",
       "2017    786\n",
       "2018    816\n",
       "2019    840\n",
       "2020    674\n",
       "2021      3\n",
       "Name: name, Length: 71, dtype: int64"
      ]
     },
     "execution_count": 262,
     "metadata": {},
     "output_type": "execute_result"
    }
   ],
   "source": [
    "sets.groupby('year').name.count()"
   ]
  },
  {
   "cell_type": "markdown",
   "id": "24d80305-7b3d-4f98-87f5-3b8bbfd8f66f",
   "metadata": {},
   "source": [
    "(Answer)\n",
    "- As previously seen in the answer to 5. there are only 3 sets released in the year 2021. This extreme skew most likely represents incomplete data from when the dataset was taken. The data for the year 2021 can be filtered out to remove this anomaly."
   ]
  },
  {
   "cell_type": "code",
   "execution_count": 255,
   "id": "54b7c760-45da-44a8-b1a4-924cfc01248a",
   "metadata": {},
   "outputs": [
    {
     "data": {
      "text/plain": [
       "year\n",
       "1949      5\n",
       "1950      6\n",
       "1953      4\n",
       "1954     14\n",
       "1955     28\n",
       "       ... \n",
       "2016    757\n",
       "2017    786\n",
       "2018    816\n",
       "2019    840\n",
       "2020    674\n",
       "Name: year, Length: 70, dtype: int64"
      ]
     },
     "execution_count": 255,
     "metadata": {},
     "output_type": "execute_result"
    }
   ],
   "source": [
    "filtered_data.groupby('year').year.count()"
   ]
  },
  {
   "cell_type": "markdown",
   "id": "0c5d01c4-4162-4bfe-be34-177a79e13c7b",
   "metadata": {},
   "source": [
    "Filtering to remove data for the year 2021:"
   ]
  },
  {
   "cell_type": "code",
   "execution_count": 301,
   "id": "db66e311-7318-4a2c-b6b7-5f8bbb8e81ff",
   "metadata": {},
   "outputs": [],
   "source": [
    "filtered_data = sets[sets.year.between(1949,2019)]"
   ]
  },
  {
   "cell_type": "code",
   "execution_count": 328,
   "id": "7110d93c-1fc4-444c-b122-236dc3a66485",
   "metadata": {},
   "outputs": [
    {
     "data": {
      "text/plain": [
       "<matplotlib.legend.Legend at 0x25590ac2fc0>"
      ]
     },
     "execution_count": 328,
     "metadata": {},
     "output_type": "execute_result"
    },
    {
     "data": {
      "image/png": "[encoded data removed]",
      "text/plain": [
       "<Figure size 640x480 with 1 Axes>"
      ]
     },
     "metadata": {},
     "output_type": "display_data"
    }
   ],
   "source": [
    "plt.figure()\n",
    "plt.plot(filtered_data.groupby('year').year.count(), label='Sets')\n",
    "plt.title('Number of LEGO sets releases by year')\n",
    "plt.legend()"
   ]
  },
  {
   "cell_type": "markdown",
   "id": "916ea361-d193-4d09-9d8b-1617ebbd7ba8",
   "metadata": {},
   "source": [
    "(Answer)\n",
    "- Although the data now shows a decline in the number of sets released in the year 2020 compared to previous, it is not on the same company-ending scale as previously shown when including the 2021 data\n",
    "- The data shows a strong growth between 1990 and 2000, followed by a small dip. After this there is sharp growth which levels off around 2020."
   ]
  },
  {
   "cell_type": "markdown",
   "id": "12c86ded-99ff-426a-b06b-97b9392011bc",
   "metadata": {},
   "source": [
    "7. How many differernt LEGO themes were shipped every year?"
   ]
  },
  {
   "cell_type": "code",
   "execution_count": 305,
   "id": "62a2dc6a-4939-43e5-a5f9-e1e3e359360f",
   "metadata": {},
   "outputs": [
    {
     "data": {
      "text/plain": [
       "year\n",
       "1949     2\n",
       "1950     1\n",
       "1953     2\n",
       "1954     2\n",
       "1955     4\n",
       "        ..\n",
       "2015    98\n",
       "2016    92\n",
       "2017    89\n",
       "2018    93\n",
       "2019    78\n",
       "Name: theme_id, Length: 69, dtype: int64"
      ]
     },
     "execution_count": 305,
     "metadata": {},
     "output_type": "execute_result"
    }
   ],
   "source": [
    "filtered_data.groupby('year').theme_id.nunique()"
   ]
  },
  {
   "cell_type": "code",
   "execution_count": 317,
   "id": "8eea6011-9bdb-4100-b1c9-3e706cc94723",
   "metadata": {},
   "outputs": [
    {
     "data": {
      "text/plain": [
       "<matplotlib.legend.Legend at 0x25590c9a420>"
      ]
     },
     "execution_count": 317,
     "metadata": {},
     "output_type": "execute_result"
    },
    {
     "data": {
      "image/png": "[encoded data removed]",
      "text/plain": [
       "<Figure size 640x480 with 1 Axes>"
      ]
     },
     "metadata": {},
     "output_type": "display_data"
    }
   ],
   "source": [
    "plt.figure()\n",
    "plt.plot(filtered_data.groupby('year').theme_id.nunique(), color='Orange', label='Themes')\n",
    "plt.title('Number of LEGO theme releases by year')\n",
    "plt.legend()"
   ]
  },
  {
   "cell_type": "markdown",
   "id": "1134f60b-6797-4edd-84a4-4cb0c3d77c9d",
   "metadata": {},
   "source": [
    "Viewing both sets of data on the same graph:"
   ]
  },
  {
   "cell_type": "code",
   "execution_count": 338,
   "id": "1781ef50-c496-4ada-a5b1-beba52f08d0e",
   "metadata": {},
   "outputs": [
    {
     "data": {
      "text/plain": [
       "Text(0, 0.5, 'Number of Lego Themes')"
      ]
     },
     "execution_count": 338,
     "metadata": {},
     "output_type": "execute_result"
    },
    {
     "data": {
      "image/png": "[encoded data removed]",
      "text/plain": [
       "<Figure size 640x480 with 2 Axes>"
      ]
     },
     "metadata": {},
     "output_type": "display_data"
    }
   ],
   "source": [
    "ax1 = plt.gca()\n",
    "ax2 = plt.twinx()\n",
    "ax1.plot(filtered_data.groupby('year').year.count(), label='Sets')\n",
    "ax2.plot(filtered_data.groupby('year').theme_id.nunique(), color='Orange', label='Themes')\n",
    "ax1.set_xlabel('Year')\n",
    "ax1.set_ylabel('Number of Lego Sets', color='Blue')\n",
    "ax2.set_ylabel('Number of Lego Themes', color='Orange')"
   ]
  },
  {
   "cell_type": "code",
   "execution_count": null,
   "id": "0d6ddf5f-4ca2-4f6a-803e-8bcab8fde8a5",
   "metadata": {},
   "outputs": [],
   "source": []
  }
 ],
 "metadata": {
  "kernelspec": {
   "display_name": "Python 3 (ipykernel)",
   "language": "python",
   "name": "python3"
  },
  "language_info": {
   "codemirror_mode": {
    "name": "ipython",
    "version": 3
   },
   "file_extension": ".py",
   "mimetype": "text/x-python",
   "name": "python",
   "nbconvert_exporter": "python",
   "pygments_lexer": "ipython3",
   "version": "3.12.4"
  }
 },
 "nbformat": 4,
 "nbformat_minor": 5
}
